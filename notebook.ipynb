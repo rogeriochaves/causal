{
 "cells": [
  {
   "cell_type": "code",
   "execution_count": 42,
   "metadata": {},
   "outputs": [],
   "source": [
    "import numpy as np\n",
    "import random\n",
    "import pandas as pd\n",
    "import matplotlib.pyplot as plt"
   ]
  },
  {
   "cell_type": "markdown",
   "metadata": {},
   "source": [
    "## Birth Weight Paradox"
   ]
  },
  {
   "cell_type": "code",
   "execution_count": 34,
   "metadata": {},
   "outputs": [],
   "source": [
    "prior_smoking = 0.48\n",
    "prior_birth_defect = 0.05\n",
    "prior_birth_weight = 0.99\n",
    "prior_mortality = 0.01\n",
    "\n",
    "# Causal Model:\n",
    "# Mortality <- Birth Weight <- Smoking -> Mortality <- Birth Defect -> Birth Weight\n",
    "\n",
    "effect_birth_weight_on_mortality = -0.3\n",
    "effect_smoking_on_birth_weight = -0.5\n",
    "effect_smoking_on_mortality = 4\n",
    "effect_birth_defect_on_mortality = 12\n",
    "effect_birth_defect_on_birth_weight = -0.5\n",
    "\n",
    "random.seed(42)"
   ]
  },
  {
   "cell_type": "code",
   "execution_count": 35,
   "metadata": {},
   "outputs": [
    {
     "data": {
      "text/html": [
       "<div>\n",
       "<style scoped>\n",
       "    .dataframe tbody tr th:only-of-type {\n",
       "        vertical-align: middle;\n",
       "    }\n",
       "\n",
       "    .dataframe tbody tr th {\n",
       "        vertical-align: top;\n",
       "    }\n",
       "\n",
       "    .dataframe thead th {\n",
       "        text-align: right;\n",
       "    }\n",
       "</style>\n",
       "<table border=\"1\" class=\"dataframe\">\n",
       "  <thead>\n",
       "    <tr style=\"text-align: right;\">\n",
       "      <th></th>\n",
       "      <th>smoking</th>\n",
       "      <th>birth_defect</th>\n",
       "      <th>birth_weight</th>\n",
       "      <th>mortality</th>\n",
       "    </tr>\n",
       "  </thead>\n",
       "  <tbody>\n",
       "    <tr>\n",
       "      <th>0</th>\n",
       "      <td>0.0</td>\n",
       "      <td>1.0</td>\n",
       "      <td>0.570941</td>\n",
       "      <td>0.099428</td>\n",
       "    </tr>\n",
       "    <tr>\n",
       "      <th>1</th>\n",
       "      <td>1.0</td>\n",
       "      <td>1.0</td>\n",
       "      <td>0.179555</td>\n",
       "      <td>0.607513</td>\n",
       "    </tr>\n",
       "    <tr>\n",
       "      <th>2</th>\n",
       "      <td>1.0</td>\n",
       "      <td>0.0</td>\n",
       "      <td>0.351950</td>\n",
       "      <td>0.043412</td>\n",
       "    </tr>\n",
       "    <tr>\n",
       "      <th>3</th>\n",
       "      <td>0.0</td>\n",
       "      <td>0.0</td>\n",
       "      <td>1.000000</td>\n",
       "      <td>0.007689</td>\n",
       "    </tr>\n",
       "    <tr>\n",
       "      <th>4</th>\n",
       "      <td>0.0</td>\n",
       "      <td>0.0</td>\n",
       "      <td>1.000000</td>\n",
       "      <td>0.007232</td>\n",
       "    </tr>\n",
       "  </tbody>\n",
       "</table>\n",
       "</div>"
      ],
      "text/plain": [
       "   smoking  birth_defect  birth_weight  mortality\n",
       "0      0.0           1.0      0.570941   0.099428\n",
       "1      1.0           1.0      0.179555   0.607513\n",
       "2      1.0           0.0      0.351950   0.043412\n",
       "3      0.0           0.0      1.000000   0.007689\n",
       "4      0.0           0.0      1.000000   0.007232"
      ]
     },
     "execution_count": 35,
     "metadata": {},
     "output_type": "execute_result"
    }
   ],
   "source": [
    "def noise():\n",
    "    return (random.random() - 0.5) * 0.3\n",
    "\n",
    "def limit(x):\n",
    "    return min([max([x, 0]), 1])\n",
    "\n",
    "def generate_sample():\n",
    "    smoking = 1.0 if random.random() < prior_smoking else 0.0\n",
    "    birth_defect = 1.0 if random.random() < prior_birth_defect else 0.0\n",
    "    birth_weight = 1.0 if random.random() < prior_birth_weight else 0.8\n",
    "    \n",
    "    birth_weight += birth_weight * ((smoking * (effect_smoking_on_birth_weight + noise())))\n",
    "    birth_weight += birth_weight * ((birth_defect * (effect_birth_defect_on_birth_weight + noise())))\n",
    "    \n",
    "    mortality = prior_mortality\n",
    "    mortality += mortality * ((smoking * (effect_smoking_on_mortality + noise())))\n",
    "    mortality += mortality * ((birth_defect * (effect_birth_defect_on_mortality + noise())))\n",
    "    mortality += mortality * ((birth_weight * (effect_birth_weight_on_mortality + noise())))\n",
    "    \n",
    "    return [limit(x) for x in [smoking, birth_defect, birth_weight, mortality]]\n",
    "\n",
    "data = [generate_sample() for _ in range(5000)]    \n",
    "df = pd.DataFrame(data, columns=['smoking', 'birth_defect', 'birth_weight', 'mortality'])\n",
    "df.head()"
   ]
  },
  {
   "cell_type": "code",
   "execution_count": 36,
   "metadata": {},
   "outputs": [
    {
     "data": {
      "text/html": [
       "<style  type=\"text/css\" >\n",
       "    #T_6d15852e_ab06_11e9_9341_f40f240ac8f3row0_col0 {\n",
       "            background-color:  #023858;\n",
       "            color:  #f1f1f1;\n",
       "        }    #T_6d15852e_ab06_11e9_9341_f40f240ac8f3row0_col1 {\n",
       "            background-color:  #cdd0e5;\n",
       "            color:  #000000;\n",
       "        }    #T_6d15852e_ab06_11e9_9341_f40f240ac8f3row0_col2 {\n",
       "            background-color:  #fff7fb;\n",
       "            color:  #000000;\n",
       "        }    #T_6d15852e_ab06_11e9_9341_f40f240ac8f3row0_col3 {\n",
       "            background-color:  #5ea0ca;\n",
       "            color:  #000000;\n",
       "        }    #T_6d15852e_ab06_11e9_9341_f40f240ac8f3row1_col0 {\n",
       "            background-color:  #78abd0;\n",
       "            color:  #000000;\n",
       "        }    #T_6d15852e_ab06_11e9_9341_f40f240ac8f3row1_col1 {\n",
       "            background-color:  #023858;\n",
       "            color:  #f1f1f1;\n",
       "        }    #T_6d15852e_ab06_11e9_9341_f40f240ac8f3row1_col2 {\n",
       "            background-color:  #bcc7e1;\n",
       "            color:  #000000;\n",
       "        }    #T_6d15852e_ab06_11e9_9341_f40f240ac8f3row1_col3 {\n",
       "            background-color:  #045c90;\n",
       "            color:  #f1f1f1;\n",
       "        }    #T_6d15852e_ab06_11e9_9341_f40f240ac8f3row2_col0 {\n",
       "            background-color:  #fff7fb;\n",
       "            color:  #000000;\n",
       "        }    #T_6d15852e_ab06_11e9_9341_f40f240ac8f3row2_col1 {\n",
       "            background-color:  #fff7fb;\n",
       "            color:  #000000;\n",
       "        }    #T_6d15852e_ab06_11e9_9341_f40f240ac8f3row2_col2 {\n",
       "            background-color:  #023858;\n",
       "            color:  #f1f1f1;\n",
       "        }    #T_6d15852e_ab06_11e9_9341_f40f240ac8f3row2_col3 {\n",
       "            background-color:  #fff7fb;\n",
       "            color:  #000000;\n",
       "        }    #T_6d15852e_ab06_11e9_9341_f40f240ac8f3row3_col0 {\n",
       "            background-color:  #2d8abd;\n",
       "            color:  #000000;\n",
       "        }    #T_6d15852e_ab06_11e9_9341_f40f240ac8f3row3_col1 {\n",
       "            background-color:  #045f95;\n",
       "            color:  #f1f1f1;\n",
       "        }    #T_6d15852e_ab06_11e9_9341_f40f240ac8f3row3_col2 {\n",
       "            background-color:  #d6d6e9;\n",
       "            color:  #000000;\n",
       "        }    #T_6d15852e_ab06_11e9_9341_f40f240ac8f3row3_col3 {\n",
       "            background-color:  #023858;\n",
       "            color:  #f1f1f1;\n",
       "        }</style><table id=\"T_6d15852e_ab06_11e9_9341_f40f240ac8f3\" ><thead>    <tr>        <th class=\"blank level0\" ></th>        <th class=\"col_heading level0 col0\" >smoking</th>        <th class=\"col_heading level0 col1\" >birth_defect</th>        <th class=\"col_heading level0 col2\" >birth_weight</th>        <th class=\"col_heading level0 col3\" >mortality</th>    </tr></thead><tbody>\n",
       "                <tr>\n",
       "                        <th id=\"T_6d15852e_ab06_11e9_9341_f40f240ac8f3level0_row0\" class=\"row_heading level0 row0\" >smoking</th>\n",
       "                        <td id=\"T_6d15852e_ab06_11e9_9341_f40f240ac8f3row0_col0\" class=\"data row0 col0\" >1</td>\n",
       "                        <td id=\"T_6d15852e_ab06_11e9_9341_f40f240ac8f3row0_col1\" class=\"data row0 col1\" >0.0227547</td>\n",
       "                        <td id=\"T_6d15852e_ab06_11e9_9341_f40f240ac8f3row0_col2\" class=\"data row0 col2\" >-0.918886</td>\n",
       "                        <td id=\"T_6d15852e_ab06_11e9_9341_f40f240ac8f3row0_col3\" class=\"data row0 col3\" >0.323316</td>\n",
       "            </tr>\n",
       "            <tr>\n",
       "                        <th id=\"T_6d15852e_ab06_11e9_9341_f40f240ac8f3level0_row1\" class=\"row_heading level0 row1\" >birth_defect</th>\n",
       "                        <td id=\"T_6d15852e_ab06_11e9_9341_f40f240ac8f3row1_col0\" class=\"data row1 col0\" >0.0227547</td>\n",
       "                        <td id=\"T_6d15852e_ab06_11e9_9341_f40f240ac8f3row1_col1\" class=\"data row1 col1\" >1</td>\n",
       "                        <td id=\"T_6d15852e_ab06_11e9_9341_f40f240ac8f3row1_col2\" class=\"data row1 col2\" >-0.322939</td>\n",
       "                        <td id=\"T_6d15852e_ab06_11e9_9341_f40f240ac8f3row1_col3\" class=\"data row1 col3\" >0.795456</td>\n",
       "            </tr>\n",
       "            <tr>\n",
       "                        <th id=\"T_6d15852e_ab06_11e9_9341_f40f240ac8f3level0_row2\" class=\"row_heading level0 row2\" >birth_weight</th>\n",
       "                        <td id=\"T_6d15852e_ab06_11e9_9341_f40f240ac8f3row2_col0\" class=\"data row2 col0\" >-0.918886</td>\n",
       "                        <td id=\"T_6d15852e_ab06_11e9_9341_f40f240ac8f3row2_col1\" class=\"data row2 col1\" >-0.322939</td>\n",
       "                        <td id=\"T_6d15852e_ab06_11e9_9341_f40f240ac8f3row2_col2\" class=\"data row2 col2\" >1</td>\n",
       "                        <td id=\"T_6d15852e_ab06_11e9_9341_f40f240ac8f3row2_col3\" class=\"data row2 col3\" >-0.485726</td>\n",
       "            </tr>\n",
       "            <tr>\n",
       "                        <th id=\"T_6d15852e_ab06_11e9_9341_f40f240ac8f3level0_row3\" class=\"row_heading level0 row3\" >mortality</th>\n",
       "                        <td id=\"T_6d15852e_ab06_11e9_9341_f40f240ac8f3row3_col0\" class=\"data row3 col0\" >0.323316</td>\n",
       "                        <td id=\"T_6d15852e_ab06_11e9_9341_f40f240ac8f3row3_col1\" class=\"data row3 col1\" >0.795456</td>\n",
       "                        <td id=\"T_6d15852e_ab06_11e9_9341_f40f240ac8f3row3_col2\" class=\"data row3 col2\" >-0.485726</td>\n",
       "                        <td id=\"T_6d15852e_ab06_11e9_9341_f40f240ac8f3row3_col3\" class=\"data row3 col3\" >1</td>\n",
       "            </tr>\n",
       "    </tbody></table>"
      ],
      "text/plain": [
       "<pandas.io.formats.style.Styler at 0x1108ce7b8>"
      ]
     },
     "execution_count": 36,
     "metadata": {},
     "output_type": "execute_result"
    }
   ],
   "source": [
    "corr = df.corr()\n",
    "corr.style.background_gradient()"
   ]
  },
  {
   "cell_type": "code",
   "execution_count": 37,
   "metadata": {},
   "outputs": [
    {
     "name": "stdout",
     "output_type": "stream",
     "text": [
      "mortality underweight smoking mother: 0.07\n",
      "mortality underweight non-smoking mother: 0.09\n"
     ]
    }
   ],
   "source": [
    "print(\"mortality underweight smoking mother:\", \"%.2f\" % df[(df['birth_weight'] < 1) & (df['smoking'] == 1)].mortality.mean())\n",
    "print(\"mortality underweight non-smoking mother:\", \"%.2f\" % df[(df['birth_weight'] < 1) & (df['smoking'] == 0)].mortality.mean())"
   ]
  },
  {
   "cell_type": "markdown",
   "metadata": {},
   "source": [
    "Apparently mothers with underweight babies have a smaller mortality rate if they smoke, that's the birth weight paradox.\n",
    "\n",
    "It's caused by the collider bias, birth weight is the collider. By conditioning on birth weight we add a spurious negative correlation between smoking and mortality, which bias the real effect of smoking on mortality\n",
    "\n",
    "The thing is, if the baby is underweight because the mother smokes, it is less bad then when the baby is underweight because of a birth defect.\n",
    "\n",
    "Looking from another perspective: if the baby is underweight and we find that the mother is a smoker, that explains away the low weight, reducing the probability it was caused by a more serious birth defect. OTOH if the mother doesn't smoke, then probably the baby is underweight for a more life-threatening issue.\n",
    "\n",
    "So let's not condition on birth weight:"
   ]
  },
  {
   "cell_type": "code",
   "execution_count": 38,
   "metadata": {},
   "outputs": [
    {
     "name": "stdout",
     "output_type": "stream",
     "text": [
      "mortality smoking mother: 0.07\n",
      "mortality non-smoking mother: 0.01\n"
     ]
    }
   ],
   "source": [
    "print(\"mortality smoking mother:\", \"%.2f\" % df[df['smoking'] == 1].mortality.mean())\n",
    "print(\"mortality non-smoking mother:\", \"%.2f\" % df[df['smoking'] == 0].mortality.mean())"
   ]
  },
  {
   "cell_type": "markdown",
   "metadata": {},
   "source": [
    "You can see that smoking mothers have a way bigger mortality rate that those who doesn't.\n",
    "\n",
    "Now, if you do want to condition on birth weight, you have to control for birth defect:"
   ]
  },
  {
   "cell_type": "code",
   "execution_count": 39,
   "metadata": {},
   "outputs": [
    {
     "name": "stdout",
     "output_type": "stream",
     "text": [
      "mortality underweight smoking mother no-defect: 0.04\n",
      "mortality underweight non-smoking mother no-defect: 0.01\n",
      "\n",
      "mortality underweight smoking mother defect: 0.60\n",
      "mortality underweight non-smoking mother defect: 0.11\n"
     ]
    }
   ],
   "source": [
    "print(\"mortality underweight smoking mother no-defect:\", \"%.2f\" % df[(df['birth_weight'] < 1) & (df['smoking'] == 1) & (df['birth_defect'] == 0)].mortality.mean())\n",
    "print(\"mortality underweight non-smoking mother no-defect:\", \"%.2f\" % df[(df['birth_weight'] < 1) & (df['smoking'] == 0) & (df['birth_defect'] == 0)].mortality.mean())\n",
    "print(\"\")\n",
    "print(\"mortality underweight smoking mother defect:\", \"%.2f\" % df[(df['birth_weight'] < 1) & (df['smoking'] == 1) & (df['birth_defect'] == 1)].mortality.mean())\n",
    "print(\"mortality underweight non-smoking mother defect:\", \"%.2f\" % df[(df['birth_weight'] < 1) & (df['smoking'] == 0) & (df['birth_defect'] == 1)].mortality.mean())"
   ]
  },
  {
   "cell_type": "markdown",
   "metadata": {},
   "source": [
    "## Simpson's Paradox"
   ]
  },
  {
   "cell_type": "code",
   "execution_count": 24,
   "metadata": {},
   "outputs": [],
   "source": [
    "effect_exercise_on_cholesterol = -1.2\n",
    "effect_age_on_cholesterol = 1.5\n",
    "\n",
    "# Model:\n",
    "# age -> cholesterol <- exercises <- age\n",
    "\n",
    "ages = np.array(range(100, 500)) / 10\n",
    "exercises = [ x / 5 * (1 + noise()) for x in ages ]\n",
    "cholesterol = [ y // 10 * (3 + noise()) - x * (1 + noise()) for x, y in zip(exercises, ages) ]"
   ]
  },
  {
   "cell_type": "code",
   "execution_count": 25,
   "metadata": {},
   "outputs": [
    {
     "data": {
      "image/png": "[encoded data removed]",
      "text/plain": [
       "<Figure size 432x288 with 1 Axes>"
      ]
     },
     "metadata": {
      "needs_background": "light"
     },
     "output_type": "display_data"
    }
   ],
   "source": [
    "from matplotlib.patches import Ellipse\n",
    "\n",
    "# Uncomment to see more or less the age groups\n",
    "# for age_group in range(10, 50, 10):\n",
    "#     exercises_for_age = exercises[age_group-10:age_group]\n",
    "#     cholesterol_for_age = cholesterol[age_group-10:age_group]\n",
    "#     circle = Ellipse((age_group / 6 + 1.5, age_group / 7 - 1.8), 2, 4 + age_group * 0.07, angle=35, color='r', fill=False, clip_on=False)\n",
    "#     plt.gca().add_artist(circle)\n",
    "\n",
    "plt.scatter(x = exercises, y = cholesterol)\n",
    "plt.xlabel(\"exercises\")\n",
    "plt.ylabel(\"cholesterol\")\n",
    "\n",
    "plt.show()"
   ]
  },
  {
   "cell_type": "markdown",
   "metadata": {},
   "source": [
    "Looking at the graph above it looks like the more you exercise, the higher your cholesterol is, so it exercising actually bad for your health? "
   ]
  },
  {
   "cell_type": "code",
   "execution_count": 26,
   "metadata": {},
   "outputs": [
    {
     "data": {
      "image/png": "[encoded data removed]",
      "text/plain": [
       "<Figure size 432x288 with 1 Axes>"
      ]
     },
     "metadata": {
      "needs_background": "light"
     },
     "output_type": "display_data"
    }
   ],
   "source": [
    "plt.scatter(x = exercises[0:100], y = cholesterol[0:100])\n",
    "plt.xlabel(\"exercises\")\n",
    "plt.ylabel(\"cholesterol\")\n",
    "plt.show()"
   ]
  },
  {
   "cell_type": "markdown",
   "metadata": {},
   "source": [
    "No, actually there is a confounder: age. If we take a slice of the data focused on some age group we can see that actually the more you exercise the smaller is your cholesterol. The thing is that with more age both your cholesterol increases and you tend to exercise more.\n",
    "\n",
    "This is the Simpson's Paradox: grouped data shows a different trend from slices of the data."
   ]
  },
  {
   "cell_type": "markdown",
   "metadata": {},
   "source": [
    "### Back-Door Adjustment"
   ]
  },
  {
   "cell_type": "markdown",
   "metadata": {},
   "source": [
    "As mentioned, if you just take the linear coefficient between exercises and cholesterol you'll find a positive correlation"
   ]
  },
  {
   "cell_type": "code",
   "execution_count": 27,
   "metadata": {},
   "outputs": [
    {
     "data": {
      "text/plain": [
       "0.3048588120619723"
      ]
     },
     "execution_count": 27,
     "metadata": {},
     "output_type": "execute_result"
    }
   ],
   "source": [
    "# np.corrcoef(exercises, cholesterol)[0][1]\n",
    "\n",
    "def linear_coef(x, y):\n",
    "    x = np.array(x)\n",
    "    A = np.array([ x, np.ones(len(x)) ])\n",
    "    y = np.array(y)\n",
    "    return np.linalg.lstsq(A.T, y, rcond=None)[0][0]\n",
    "\n",
    "linear_coef(exercises, cholesterol)"
   ]
  },
  {
   "cell_type": "markdown",
   "metadata": {},
   "source": [
    "Instead, we can control for age by taking an average of coefficients in each age group"
   ]
  },
  {
   "cell_type": "code",
   "execution_count": 28,
   "metadata": {},
   "outputs": [
    {
     "data": {
      "text/plain": [
       "-0.9999637499861551"
      ]
     },
     "execution_count": 28,
     "metadata": {},
     "output_type": "execute_result"
    }
   ],
   "source": [
    "coefs = []\n",
    "for age_group in range(10, 50, 10):\n",
    "    coef = linear_coef(exercises[0:age_group], cholesterol[0:age_group]) # np.corrcoef(exercises[0:age_group], cholesterol[0:age_group])[0][1]\n",
    "    coefs.append(coef)\n",
    "np.mean(coefs)"
   ]
  },
  {
   "cell_type": "markdown",
   "metadata": {},
   "source": [
    "Now you can see there is a negative correlation, as expected.\n",
    "\n",
    "An even better approach is to use a multi linear regression and just take the calculated coefficient for exercise, because it will already be adjusted for age. Doing like this is also good because in many cases we don't know exactly how to split the groups"
   ]
  },
  {
   "cell_type": "code",
   "execution_count": 29,
   "metadata": {},
   "outputs": [
    {
     "name": "stdout",
     "output_type": "stream",
     "text": [
      "-0.9834891987112377\n"
     ]
    }
   ],
   "source": [
    "from sklearn.linear_model import LinearRegression\n",
    "\n",
    "X = np.array([exercises, ages]).T\n",
    "y = cholesterol\n",
    "\n",
    "regressor = LinearRegression()\n",
    "regressor.fit(X, y)\n",
    "\n",
    "print(regressor.coef_[0])"
   ]
  },
  {
   "cell_type": "markdown",
   "metadata": {},
   "source": [
    "The result is very close to the age groups average one"
   ]
  },
  {
   "cell_type": "code",
   "execution_count": null,
   "metadata": {},
   "outputs": [],
   "source": []
  }
 ],
 "metadata": {
  "kernelspec": {
   "display_name": "Python 3",
   "language": "python",
   "name": "python3"
  },
  "language_info": {
   "codemirror_mode": {
    "name": "ipython",
    "version": 3
   },
   "file_extension": ".py",
   "mimetype": "text/x-python",
   "name": "python",
   "nbconvert_exporter": "python",
   "pygments_lexer": "ipython3",
   "version": "3.6.6"
  }
 },
 "nbformat": 4,
 "nbformat_minor": 2
}
