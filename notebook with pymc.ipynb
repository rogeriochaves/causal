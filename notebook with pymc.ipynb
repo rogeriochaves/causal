{
 "cells": [
  {
   "cell_type": "code",
   "execution_count": 243,
   "metadata": {},
   "outputs": [],
   "source": [
    "import numpy as np\n",
    "import random\n",
    "import pandas as pd\n",
    "import matplotlib.pyplot as plt\n",
    "import pymc3 as pm"
   ]
  },
  {
   "cell_type": "markdown",
   "metadata": {},
   "source": [
    "## Birth Weight Paradox"
   ]
  },
  {
   "cell_type": "code",
   "execution_count": 209,
   "metadata": {},
   "outputs": [],
   "source": [
    "prior_smoking = 0.48\n",
    "prior_birth_defect = 0.05\n",
    "# prior_birth_weight will be normal distribution around 0.8 to 1.2\n",
    "prior_mortality = 0.01\n",
    "\n",
    "# Causal Model:\n",
    "# Mortality <- Birth Weight <- Smoking -> Mortality <- Birth Defect -> Birth Weight\n",
    "\n",
    "effect_birth_weight_on_mortality = -0.3\n",
    "effect_smoking_on_birth_weight = -0.25\n",
    "effect_smoking_on_mortality = 4\n",
    "effect_birth_defect_on_mortality = 12\n",
    "effect_birth_defect_on_birth_weight = -0.25\n",
    "\n",
    "random.seed(42)"
   ]
  },
  {
   "cell_type": "code",
   "execution_count": 227,
   "metadata": {},
   "outputs": [
    {
     "name": "stderr",
     "output_type": "stream",
     "text": [
      "Multiprocess sampling (2 chains in 2 jobs)\n",
      "CompoundStep\n",
      ">CompoundStep\n",
      ">>Metropolis: [birth_defect]\n",
      ">>Metropolis: [smoking]\n",
      ">NUTS: [birth_mortality_base, birth_weight_base]\n",
      "Sampling 2 chains: 100%|██████████| 5000/5000 [00:13<00:00, 366.57draws/s]\n",
      "There was 1 divergence after tuning. Increase `target_accept` or reparameterize.\n",
      "There was 1 divergence after tuning. Increase `target_accept` or reparameterize.\n",
      "The number of effective samples is smaller than 25% for some parameters.\n"
     ]
    },
    {
     "data": {
      "image/png": "[encoded data removed]",
      "text/plain": [
       "<Figure size 432x288 with 1 Axes>"
      ]
     },
     "metadata": {
      "needs_background": "light"
     },
     "output_type": "display_data"
    },
    {
     "data": {
      "image/png": "[encoded data removed]",
      "text/plain": [
       "<Figure size 432x288 with 1 Axes>"
      ]
     },
     "metadata": {
      "needs_background": "light"
     },
     "output_type": "display_data"
    },
    {
     "data": {
      "image/png": "[encoded data removed]",
      "text/plain": [
       "<Figure size 432x288 with 1 Axes>"
      ]
     },
     "metadata": {
      "needs_background": "light"
     },
     "output_type": "display_data"
    },
    {
     "data": {
      "image/png": "[encoded data removed]",
      "text/plain": [
       "<Figure size 432x288 with 1 Axes>"
      ]
     },
     "metadata": {
      "needs_background": "light"
     },
     "output_type": "display_data"
    }
   ],
   "source": [
    "import math\n",
    "\n",
    "with pm.Model() as smoking_birth_weight:\n",
    "    smoking = pm.Binomial(\"smoking\", 1, prior_smoking)\n",
    "    birth_defect = pm.Binomial(\"birth_defect\", 1, prior_birth_defect)\n",
    "    birth_weight_before_effects = pm.Normal(\"birth_weight_base\", mu=1.0, sigma=0.1)\n",
    "    birth_weight = pm.Deterministic(\"birth_weight\",\n",
    "                                    birth_weight_before_effects +\n",
    "                                    birth_weight_before_effects * smoking * effect_smoking_on_birth_weight +\n",
    "                                    birth_weight_before_effects * birth_defect * effect_birth_defect_on_birth_weight \n",
    "                                   )\n",
    "  \n",
    "    # Since we are using an exponential a small number will cause big output values, while a big number will\n",
    "    # cause small output values, since we are looking for something between 0 and 1, we want the inverse\n",
    "    # of 0.01 which is a 100\n",
    "    logaritmic_prior_mortality = 10 ** (math.log(prior_mortality, 10) * -1)\n",
    "    birth_mortality_before_effects = pm.Exponential(\"birth_mortality_base\", logaritmic_prior_mortality)\n",
    "    birth_mortality = pm.Deterministic(\"birth_mortality\",\n",
    "                                    birth_mortality_before_effects +\n",
    "                                    birth_mortality_before_effects * smoking * effect_smoking_on_mortality +\n",
    "                                    birth_mortality_before_effects * birth_defect * effect_birth_defect_on_mortality +\n",
    "                                    birth_mortality_before_effects * birth_weight * effect_birth_weight_on_mortality \n",
    "                                   )\n",
    "    \n",
    "    trace = pm.sample(2000)\n",
    "\n",
    "plt.hist(trace[\"smoking\"])\n",
    "plt.title(\"Smoking\")\n",
    "plt.show()\n",
    "\n",
    "plt.hist(trace[\"birth_defect\"])\n",
    "plt.title(\"Birth Defect\")\n",
    "plt.show()\n",
    "\n",
    "plt.hist(trace[\"birth_weight\"])\n",
    "plt.title(\"Birth Weight\")\n",
    "plt.show()\n",
    "\n",
    "plt.hist(trace[\"birth_mortality\"])\n",
    "plt.title(\"Birth Mortality\")\n",
    "plt.show()"
   ]
  },
  {
   "cell_type": "code",
   "execution_count": 229,
   "metadata": {},
   "outputs": [
    {
     "data": {
      "text/html": [
       "<div>\n",
       "<style scoped>\n",
       "    .dataframe tbody tr th:only-of-type {\n",
       "        vertical-align: middle;\n",
       "    }\n",
       "\n",
       "    .dataframe tbody tr th {\n",
       "        vertical-align: top;\n",
       "    }\n",
       "\n",
       "    .dataframe thead th {\n",
       "        text-align: right;\n",
       "    }\n",
       "</style>\n",
       "<table border=\"1\" class=\"dataframe\">\n",
       "  <thead>\n",
       "    <tr style=\"text-align: right;\">\n",
       "      <th></th>\n",
       "      <th>smoking</th>\n",
       "      <th>birth_defect</th>\n",
       "      <th>birth_weight</th>\n",
       "      <th>mortality</th>\n",
       "    </tr>\n",
       "  </thead>\n",
       "  <tbody>\n",
       "    <tr>\n",
       "      <th>0</th>\n",
       "      <td>1.0</td>\n",
       "      <td>0.0</td>\n",
       "      <td>0.736133</td>\n",
       "      <td>0.007589</td>\n",
       "    </tr>\n",
       "    <tr>\n",
       "      <th>1</th>\n",
       "      <td>1.0</td>\n",
       "      <td>0.0</td>\n",
       "      <td>0.745401</td>\n",
       "      <td>0.230171</td>\n",
       "    </tr>\n",
       "    <tr>\n",
       "      <th>2</th>\n",
       "      <td>1.0</td>\n",
       "      <td>0.0</td>\n",
       "      <td>0.683245</td>\n",
       "      <td>0.022955</td>\n",
       "    </tr>\n",
       "    <tr>\n",
       "      <th>3</th>\n",
       "      <td>0.0</td>\n",
       "      <td>0.0</td>\n",
       "      <td>1.090145</td>\n",
       "      <td>0.004093</td>\n",
       "    </tr>\n",
       "    <tr>\n",
       "      <th>4</th>\n",
       "      <td>0.0</td>\n",
       "      <td>0.0</td>\n",
       "      <td>0.975409</td>\n",
       "      <td>0.012335</td>\n",
       "    </tr>\n",
       "  </tbody>\n",
       "</table>\n",
       "</div>"
      ],
      "text/plain": [
       "   smoking  birth_defect  birth_weight  mortality\n",
       "0      1.0           0.0      0.736133   0.007589\n",
       "1      1.0           0.0      0.745401   0.230171\n",
       "2      1.0           0.0      0.683245   0.022955\n",
       "3      0.0           0.0      1.090145   0.004093\n",
       "4      0.0           0.0      0.975409   0.012335"
      ]
     },
     "metadata": {},
     "output_type": "display_data"
    },
    {
     "data": {
      "text/html": [
       "<style  type=\"text/css\" >\n",
       "    #T_77fe071e_109d_11ea_8720_f40f240ac8f3row0_col0 {\n",
       "            background-color:  #023858;\n",
       "            color:  #f1f1f1;\n",
       "        }    #T_77fe071e_109d_11ea_8720_f40f240ac8f3row0_col1 {\n",
       "            background-color:  #d2d3e7;\n",
       "            color:  #000000;\n",
       "        }    #T_77fe071e_109d_11ea_8720_f40f240ac8f3row0_col2 {\n",
       "            background-color:  #fff7fb;\n",
       "            color:  #000000;\n",
       "        }    #T_77fe071e_109d_11ea_8720_f40f240ac8f3row0_col3 {\n",
       "            background-color:  #6ba5cd;\n",
       "            color:  #000000;\n",
       "        }    #T_77fe071e_109d_11ea_8720_f40f240ac8f3row1_col0 {\n",
       "            background-color:  #8cb3d5;\n",
       "            color:  #000000;\n",
       "        }    #T_77fe071e_109d_11ea_8720_f40f240ac8f3row1_col1 {\n",
       "            background-color:  #023858;\n",
       "            color:  #f1f1f1;\n",
       "        }    #T_77fe071e_109d_11ea_8720_f40f240ac8f3row1_col2 {\n",
       "            background-color:  #cdd0e5;\n",
       "            color:  #000000;\n",
       "        }    #T_77fe071e_109d_11ea_8720_f40f240ac8f3row1_col3 {\n",
       "            background-color:  #3790c0;\n",
       "            color:  #000000;\n",
       "        }    #T_77fe071e_109d_11ea_8720_f40f240ac8f3row2_col0 {\n",
       "            background-color:  #fff7fb;\n",
       "            color:  #000000;\n",
       "        }    #T_77fe071e_109d_11ea_8720_f40f240ac8f3row2_col1 {\n",
       "            background-color:  #fff7fb;\n",
       "            color:  #000000;\n",
       "        }    #T_77fe071e_109d_11ea_8720_f40f240ac8f3row2_col2 {\n",
       "            background-color:  #023858;\n",
       "            color:  #f1f1f1;\n",
       "        }    #T_77fe071e_109d_11ea_8720_f40f240ac8f3row2_col3 {\n",
       "            background-color:  #fff7fb;\n",
       "            color:  #000000;\n",
       "        }    #T_77fe071e_109d_11ea_8720_f40f240ac8f3row3_col0 {\n",
       "            background-color:  #3991c1;\n",
       "            color:  #000000;\n",
       "        }    #T_77fe071e_109d_11ea_8720_f40f240ac8f3row3_col1 {\n",
       "            background-color:  #4496c3;\n",
       "            color:  #000000;\n",
       "        }    #T_77fe071e_109d_11ea_8720_f40f240ac8f3row3_col2 {\n",
       "            background-color:  #d9d8ea;\n",
       "            color:  #000000;\n",
       "        }    #T_77fe071e_109d_11ea_8720_f40f240ac8f3row3_col3 {\n",
       "            background-color:  #023858;\n",
       "            color:  #f1f1f1;\n",
       "        }</style><table id=\"T_77fe071e_109d_11ea_8720_f40f240ac8f3\" ><thead>    <tr>        <th class=\"blank level0\" ></th>        <th class=\"col_heading level0 col0\" >smoking</th>        <th class=\"col_heading level0 col1\" >birth_defect</th>        <th class=\"col_heading level0 col2\" >birth_weight</th>        <th class=\"col_heading level0 col3\" >mortality</th>    </tr></thead><tbody>\n",
       "                <tr>\n",
       "                        <th id=\"T_77fe071e_109d_11ea_8720_f40f240ac8f3level0_row0\" class=\"row_heading level0 row0\" >smoking</th>\n",
       "                        <td id=\"T_77fe071e_109d_11ea_8720_f40f240ac8f3row0_col0\" class=\"data row0 col0\" >1</td>\n",
       "                        <td id=\"T_77fe071e_109d_11ea_8720_f40f240ac8f3row0_col1\" class=\"data row0 col1\" >0.00520228</td>\n",
       "                        <td id=\"T_77fe071e_109d_11ea_8720_f40f240ac8f3row0_col2\" class=\"data row0 col2\" >-0.775282</td>\n",
       "                        <td id=\"T_77fe071e_109d_11ea_8720_f40f240ac8f3row0_col3\" class=\"data row0 col3\" >0.324347</td>\n",
       "            </tr>\n",
       "            <tr>\n",
       "                        <th id=\"T_77fe071e_109d_11ea_8720_f40f240ac8f3level0_row1\" class=\"row_heading level0 row1\" >birth_defect</th>\n",
       "                        <td id=\"T_77fe071e_109d_11ea_8720_f40f240ac8f3row1_col0\" class=\"data row1 col0\" >0.00520228</td>\n",
       "                        <td id=\"T_77fe071e_109d_11ea_8720_f40f240ac8f3row1_col1\" class=\"data row1 col1\" >1</td>\n",
       "                        <td id=\"T_77fe071e_109d_11ea_8720_f40f240ac8f3row1_col2\" class=\"data row1 col2\" >-0.312391</td>\n",
       "                        <td id=\"T_77fe071e_109d_11ea_8720_f40f240ac8f3row1_col3\" class=\"data row1 col3\" >0.470657</td>\n",
       "            </tr>\n",
       "            <tr>\n",
       "                        <th id=\"T_77fe071e_109d_11ea_8720_f40f240ac8f3level0_row2\" class=\"row_heading level0 row2\" >birth_weight</th>\n",
       "                        <td id=\"T_77fe071e_109d_11ea_8720_f40f240ac8f3row2_col0\" class=\"data row2 col0\" >-0.775282</td>\n",
       "                        <td id=\"T_77fe071e_109d_11ea_8720_f40f240ac8f3row2_col1\" class=\"data row2 col1\" >-0.312391</td>\n",
       "                        <td id=\"T_77fe071e_109d_11ea_8720_f40f240ac8f3row2_col2\" class=\"data row2 col2\" >1</td>\n",
       "                        <td id=\"T_77fe071e_109d_11ea_8720_f40f240ac8f3row2_col3\" class=\"data row2 col3\" >-0.400047</td>\n",
       "            </tr>\n",
       "            <tr>\n",
       "                        <th id=\"T_77fe071e_109d_11ea_8720_f40f240ac8f3level0_row3\" class=\"row_heading level0 row3\" >mortality</th>\n",
       "                        <td id=\"T_77fe071e_109d_11ea_8720_f40f240ac8f3row3_col0\" class=\"data row3 col0\" >0.324347</td>\n",
       "                        <td id=\"T_77fe071e_109d_11ea_8720_f40f240ac8f3row3_col1\" class=\"data row3 col1\" >0.470657</td>\n",
       "                        <td id=\"T_77fe071e_109d_11ea_8720_f40f240ac8f3row3_col2\" class=\"data row3 col2\" >-0.400047</td>\n",
       "                        <td id=\"T_77fe071e_109d_11ea_8720_f40f240ac8f3row3_col3\" class=\"data row3 col3\" >1</td>\n",
       "            </tr>\n",
       "    </tbody></table>"
      ],
      "text/plain": [
       "<pandas.io.formats.style.Styler at 0x11d693ba8>"
      ]
     },
     "execution_count": 229,
     "metadata": {},
     "output_type": "execute_result"
    }
   ],
   "source": [
    "from IPython.display import display\n",
    "\n",
    "data = np.array([trace[\"smoking\"], trace[\"birth_defect\"], trace[\"birth_weight\"], trace[\"birth_mortality\"]]).T\n",
    "df = pd.DataFrame(data, columns=['smoking', 'birth_defect', 'birth_weight', 'mortality'])\n",
    "display(df.head())\n",
    "\n",
    "corr = df.corr()\n",
    "corr.style.background_gradient()"
   ]
  },
  {
   "cell_type": "code",
   "execution_count": 230,
   "metadata": {},
   "outputs": [
    {
     "name": "stdout",
     "output_type": "stream",
     "text": [
      "mortality underweight smoking mother: 0.06\n",
      "mortality underweight non-smoking mother: 0.15\n"
     ]
    }
   ],
   "source": [
    "print(\"mortality underweight smoking mother:\", \"%.2f\" % df[(df['birth_weight'] < 0.7) & (df['smoking'] == 1)].mortality.mean())\n",
    "print(\"mortality underweight non-smoking mother:\", \"%.2f\" % df[(df['birth_weight'] < 0.7) & (df['smoking'] == 0)].mortality.mean())"
   ]
  },
  {
   "cell_type": "markdown",
   "metadata": {},
   "source": [
    "Apparently mothers with underweight babies have a smaller mortality rate if they smoke, that's the birth weight paradox.\n",
    "\n",
    "It's caused by the collider bias, birth weight is the collider. By conditioning on birth weight we add a spurious negative correlation between smoking and mortality, which bias the real effect of smoking on mortality\n",
    "\n",
    "The thing is, if the baby is underweight because the mother smokes, it is less bad then when the baby is underweight because of a birth defect.\n",
    "\n",
    "Looking from another perspective: if the baby is underweight and we find that the mother is a smoker, that explains away the low weight, reducing the probability it was caused by a more serious birth defect. OTOH if the mother doesn't smoke, then probably the baby is underweight for a more life-threatening issue.\n",
    "\n",
    "So let's not condition on birth weight:"
   ]
  },
  {
   "cell_type": "code",
   "execution_count": 231,
   "metadata": {},
   "outputs": [
    {
     "name": "stdout",
     "output_type": "stream",
     "text": [
      "mortality smoking mother: 0.05\n",
      "mortality non-smoking mother: 0.01\n"
     ]
    }
   ],
   "source": [
    "print(\"mortality smoking mother:\", \"%.2f\" % df[df['smoking'] == 1].mortality.mean())\n",
    "print(\"mortality non-smoking mother:\", \"%.2f\" % df[df['smoking'] == 0].mortality.mean())"
   ]
  },
  {
   "cell_type": "markdown",
   "metadata": {},
   "source": [
    "You can see that smoking mothers have a way bigger mortality rate that those who doesn't.\n",
    "\n",
    "Now, if you do want to condition on birth weight, you have to control for birth defect:"
   ]
  },
  {
   "cell_type": "code",
   "execution_count": 232,
   "metadata": {},
   "outputs": [
    {
     "name": "stdout",
     "output_type": "stream",
     "text": [
      "mortality underweight smoking mother no-defect: 0.05\n",
      "mortality underweight non-smoking mother no-defect: 0.01\n",
      "\n",
      "mortality underweight smoking mother defect: 0.15\n",
      "mortality underweight non-smoking mother defect: 0.21\n"
     ]
    }
   ],
   "source": [
    "print(\"mortality underweight smoking mother no-defect:\", \"%.2f\" % df[(df['birth_weight'] < 0.7) & (df['smoking'] == 1) & (df['birth_defect'] == 0)].mortality.mean())\n",
    "print(\"mortality underweight non-smoking mother no-defect:\", \"%.2f\" % df[(df['birth_weight'] < 0.7) & (df['smoking'] == 0) & (df['birth_defect'] == 0)].mortality.mean())\n",
    "print(\"\")\n",
    "print(\"mortality underweight smoking mother defect:\", \"%.2f\" % df[(df['birth_weight'] < 0.7) & (df['smoking'] == 1) & (df['birth_defect'] == 1)].mortality.mean())\n",
    "print(\"mortality underweight non-smoking mother defect:\", \"%.2f\" % df[(df['birth_weight'] < 0.7) & (df['smoking'] == 0) & (df['birth_defect'] == 1)].mortality.mean())"
   ]
  },
  {
   "cell_type": "markdown",
   "metadata": {},
   "source": [
    "## Simpson's Paradox"
   ]
  },
  {
   "cell_type": "code",
   "execution_count": 1074,
   "metadata": {},
   "outputs": [],
   "source": [
    "effect_exercise_on_cholesterol = -1\n",
    "effect_age_on_cholesterol = 3\n",
    "effect_age_on_exercises = 1\n",
    "\n",
    "# Model:\n",
    "# age -> cholesterol <- exercises <- age\n",
    "\n",
    "ages = np.array(range(100, 500)) / 10\n",
    "exercises = [ z / 5 * (effect_age_on_exercises + noise()) for z in ages ]\n",
    "cholesterol = [ z // 10 * (effect_age_on_cholesterol + noise()) +\n",
    "                x * (effect_exercise_on_cholesterol + noise()) for x, z in zip(exercises, ages) ]"
   ]
  },
  {
   "cell_type": "code",
   "execution_count": 1075,
   "metadata": {},
   "outputs": [
    {
     "data": {
      "image/png": "[encoded data removed]",
      "text/plain": [
       "<Figure size 432x288 with 1 Axes>"
      ]
     },
     "metadata": {
      "needs_background": "light"
     },
     "output_type": "display_data"
    }
   ],
   "source": [
    "from matplotlib.patches import Ellipse\n",
    "\n",
    "# Uncomment to see more or less the age groups\n",
    "# for age_group in range(10, 50, 10):\n",
    "#     exercises_for_age = exercises[age_group-10:age_group]\n",
    "#     cholesterol_for_age = cholesterol[age_group-10:age_group]\n",
    "#     circle = Ellipse((age_group / 6 + 1.5, age_group / 7 - 1.8), 2, 4 + age_group * 0.07, angle=35, color='r', fill=False, clip_on=False)\n",
    "#     plt.gca().add_artist(circle)\n",
    "\n",
    "plt.scatter(x = exercises, y = cholesterol)\n",
    "plt.xlabel(\"exercises\")\n",
    "plt.ylabel(\"cholesterol\")\n",
    "\n",
    "plt.show()"
   ]
  },
  {
   "cell_type": "markdown",
   "metadata": {},
   "source": [
    "Looking at the graph above it looks like the more you exercise, the higher your cholesterol is, so it exercising actually bad for your health? "
   ]
  },
  {
   "cell_type": "code",
   "execution_count": 1076,
   "metadata": {},
   "outputs": [
    {
     "data": {
      "image/png": "[encoded data removed]",
      "text/plain": [
       "<Figure size 432x288 with 1 Axes>"
      ]
     },
     "metadata": {
      "needs_background": "light"
     },
     "output_type": "display_data"
    }
   ],
   "source": [
    "plt.scatter(x = exercises[0:100], y = cholesterol[0:100])\n",
    "plt.xlabel(\"exercises\")\n",
    "plt.ylabel(\"cholesterol\")\n",
    "plt.show()"
   ]
  },
  {
   "cell_type": "markdown",
   "metadata": {},
   "source": [
    "No, actually there is a confounder: age. If we take a slice of the data focused on some age group we can see that actually the more you exercise the smaller is your cholesterol. The thing is that with more age both your cholesterol increases and you tend to exercise more.\n",
    "\n",
    "This is the Simpson's Paradox: grouped data shows a different trend from slices of the data."
   ]
  },
  {
   "cell_type": "markdown",
   "metadata": {},
   "source": [
    "### Back-Door Adjustment"
   ]
  },
  {
   "cell_type": "markdown",
   "metadata": {},
   "source": [
    "As mentioned, if you just take the linear coefficient between exercises and cholesterol you'll find a positive correlation"
   ]
  },
  {
   "cell_type": "code",
   "execution_count": 1077,
   "metadata": {},
   "outputs": [
    {
     "data": {
      "text/plain": [
       "0.8076156750539667"
      ]
     },
     "execution_count": 1077,
     "metadata": {},
     "output_type": "execute_result"
    }
   ],
   "source": [
    "from sklearn.linear_model import LinearRegression\n",
    "\n",
    "def linear_coef(x, y):\n",
    "    x = np.array(x)\n",
    "    A = np.array([ x, np.ones(len(x)) ])\n",
    "    y = np.array(y)\n",
    "    return np.linalg.lstsq(A.T, y, rcond=None)[0][0]\n",
    "\n",
    "linear_coef(cholesterol, exercises)"
   ]
  },
  {
   "cell_type": "markdown",
   "metadata": {},
   "source": [
    "Instead, we can control for age by taking an average of coefficients in each age group"
   ]
  },
  {
   "cell_type": "code",
   "execution_count": 1078,
   "metadata": {},
   "outputs": [
    {
     "data": {
      "text/plain": [
       "-1.2592573000833274"
      ]
     },
     "execution_count": 1078,
     "metadata": {},
     "output_type": "execute_result"
    }
   ],
   "source": [
    "coefs = []\n",
    "for age_group in range(10, 50, 10):\n",
    "    coef = linear_coef(exercises[(age_group - 10):age_group], cholesterol[(age_group - 10):age_group]) # np.corrcoef(exercises[0:age_group], cholesterol[0:age_group])[0][1]\n",
    "    coefs.append(coef)\n",
    "np.mean(coefs)"
   ]
  },
  {
   "cell_type": "markdown",
   "metadata": {},
   "source": [
    "Using Formula\n",
    "\n",
    "$ P(Y | do(X)) = \\sum_{z} P(Y | X, Z = z) P(Z = z) $"
   ]
  },
  {
   "cell_type": "code",
   "execution_count": 1079,
   "metadata": {},
   "outputs": [
    {
     "data": {
      "text/plain": [
       "-1.2592573000833274"
      ]
     },
     "execution_count": 1079,
     "metadata": {},
     "output_type": "execute_result"
    }
   ],
   "source": [
    "coefs2 = 0\n",
    "for age_group in range(10, 50, 10):\n",
    "    coefs2 += linear_coef(exercises[(age_group - 10):age_group], cholesterol[(age_group - 10):age_group]) * 0.25 # P(Z = z) = 0.25\n",
    "coefs2 "
   ]
  },
  {
   "cell_type": "markdown",
   "metadata": {},
   "source": [
    "Now you can see there is a negative correlation, as expected.\n",
    "\n",
    "An even better approach is to use a multi linear regression and just take the calculated coefficient for exercise, because it will already be adjusted for age. Doing like this is also good because in many cases we don't know exactly how to split the groups"
   ]
  },
  {
   "cell_type": "code",
   "execution_count": 1080,
   "metadata": {},
   "outputs": [
    {
     "name": "stdout",
     "output_type": "stream",
     "text": [
      "-1.0545468665822066\n"
     ]
    },
    {
     "data": {
      "image/png": "[encoded data removed]",
      "text/plain": [
       "<Figure size 432x288 with 1 Axes>"
      ]
     },
     "metadata": {
      "needs_background": "light"
     },
     "output_type": "display_data"
    }
   ],
   "source": [
    "from sklearn.linear_model import LinearRegression\n",
    "\n",
    "X = np.array([exercises, ages]).T\n",
    "y = cholesterol\n",
    "\n",
    "regressor = LinearRegression()\n",
    "regressor.fit(X, y)\n",
    "\n",
    "print(regressor.coef_[0])\n",
    "\n",
    "plt.scatter(x = exercises[0:100], y = cholesterol[0:100])\n",
    "\n",
    "#ys = [ x * regressor.coef_[0] + z * regressor.coef_[1] + regressor.intercept_ for x, z in zip(exercises[0:100], ages[0:100]) ]\n",
    "#plt.plot([ x for x in exercises[0:100]], ys)\n",
    "\n",
    "ys = [ x * regressor.coef_[0] for x, z in zip(exercises[0:100], ages[0:100]) ]\n",
    "plt.plot([ x for x in exercises[0:100]], ys)\n",
    "\n",
    "ys = [ x * coefs2 for x, z in zip(exercises[0:100], ages[0:100]) ]\n",
    "plt.plot([ x for x in exercises[0:100]], ys)\n",
    "\n",
    "plt.xlabel(\"exercises\")\n",
    "plt.ylabel(\"cholesterol\")\n",
    "plt.show()"
   ]
  },
  {
   "cell_type": "markdown",
   "metadata": {},
   "source": [
    "The slope result is close to the age groups average one"
   ]
  },
  {
   "cell_type": "markdown",
   "metadata": {},
   "source": [
    "### Front-Door Criterion\n",
    "\n",
    "Do people showing up for a job specialization course increase their earnings?"
   ]
  },
  {
   "cell_type": "code",
   "execution_count": 633,
   "metadata": {},
   "outputs": [
    {
     "data": {
      "image/png": "[encoded data removed]",
      "text/plain": [
       "<Figure size 432x288 with 1 Axes>"
      ]
     },
     "metadata": {
      "needs_background": "light"
     },
     "output_type": "display_data"
    }
   ],
   "source": [
    "# Model:\n",
    "# sign up -> show up <- earnings <- motivation -> sign up\n",
    "\n",
    "effect_motivation_on_sign_up = 1.2\n",
    "effect_motivation_on_earnings = 1.5\n",
    "effect_sign_up_on_show_up = 1.8\n",
    "effect_show_up_on_earnings = 1.1\n",
    "\n",
    "def to_binary(xs):\n",
    "    return [ 1 if x >= 0.5 else 0 for x in xs ]\n",
    "\n",
    "motivations = [ random.random() for _ in range(0, 1000) ] \n",
    "sign_ups = to_binary([ x * (effect_motivation_on_sign_up + noise()) for x in motivations ])\n",
    "show_ups = [ (x + 0.1) * (effect_sign_up_on_show_up + noise()) + noise() for x in sign_ups ]\n",
    "earnings = [ y * (effect_motivation_on_earnings + noise()) +\n",
    "             x * (effect_show_up_on_earnings + noise()) for x, y in zip(show_ups, motivations) ]\n",
    "\n",
    "plt.scatter(x = earnings, y = show_ups_cont)\n",
    "plt.xlabel(\"earnings\")\n",
    "plt.ylabel(\"show ups\")\n",
    "\n",
    "plt.show()"
   ]
  },
  {
   "cell_type": "markdown",
   "metadata": {},
   "source": [
    "We can easily calculate the effect of sign_ups in show_ups because there is no confounder there"
   ]
  },
  {
   "cell_type": "code",
   "execution_count": 634,
   "metadata": {},
   "outputs": [
    {
     "data": {
      "text/plain": [
       "1.8030336791532013"
      ]
     },
     "execution_count": 634,
     "metadata": {},
     "output_type": "execute_result"
    }
   ],
   "source": [
    "linear_coef(sign_ups_cont, show_ups_cont) # P(Z | X)"
   ]
  },
  {
   "cell_type": "markdown",
   "metadata": {},
   "source": [
    "But if we tried to calculate the effect of sign_ups on earnings we would have a much bigger effect then in reality, because motivation plays a big role in both sign_ups and earnings"
   ]
  },
  {
   "cell_type": "code",
   "execution_count": 635,
   "metadata": {},
   "outputs": [
    {
     "data": {
      "text/plain": [
       "2.7331978220543705"
      ]
     },
     "execution_count": 635,
     "metadata": {},
     "output_type": "execute_result"
    }
   ],
   "source": [
    "linear_coef(sign_ups, earnings)"
   ]
  },
  {
   "cell_type": "markdown",
   "metadata": {},
   "source": [
    "Instead, to calculate the real effect of sign ups and remove the earnings bias, we use the front-door criterion:"
   ]
  },
  {
   "cell_type": "markdown",
   "metadata": {},
   "source": [
    "Using the Formula\n",
    "\n",
    "$ P(Y | do(X)) = \\sum_{z} P(Z = z, X) \\sum_{x} P(Y | X = x, Z = z) P(X = x) $\n",
    "\n",
    "$ X = sign\\ ups $\n",
    "\n",
    "$ Y = earnings $\n",
    "\n",
    "$ Z = show\\ ups $"
   ]
  },
  {
   "cell_type": "code",
   "execution_count": 1101,
   "metadata": {},
   "outputs": [
    {
     "data": {
      "text/plain": [
       "0.4524756955992626"
      ]
     },
     "execution_count": 1101,
     "metadata": {},
     "output_type": "execute_result"
    }
   ],
   "source": [
    "outer_sum = 0\n",
    "for z in set(show_ups):\n",
    "#     x_true = [ x for x in sign_ups if x == 1 ]\n",
    "#     z_equals = [ z_ for z_, x_ in zip(show_ups, sign_ups) if z_ == z ]\n",
    "#     p_z_x = len(z_equals) / len(x_true)\n",
    "    p_z = len([z_ for z_ in show_ups if z_ == z]) / len(show_ups)\n",
    "    p_x = len([x_ for z_, x_ in zip(show_ups, sign_ups) if z_ == z and x_ == 1]) / len([z_ for z_ in show_ups if z_ == z])\n",
    "    p_z_x = p_z * p_x\n",
    "    \n",
    "\n",
    "    inner_sum = 0\n",
    "    for x in set(sign_ups):\n",
    "        y_given_x_z = [ y for x_, y, z_ in zip(sign_ups, earnings, show_ups) if x_ == x and z_ == z ]\n",
    "        x_given_x_z = [ x for x_, y, z_ in zip(sign_ups, earnings, show_ups) if x_ == x and z_ == z ]\n",
    "        p_y_given_x_z = linear_coef(x_given_x_z, y_given_x_z)\n",
    "    \n",
    "        x_equals = [ x_ for x_ in sign_ups if x_ == x ]\n",
    "        p_x = len(x_equals) / len(sign_ups)\n",
    "        \n",
    "        inner_sum += p_y_given_x_z * p_x\n",
    "    outer_sum += p_z_x * inner_sum\n",
    "outer_sum"
   ]
  },
  {
   "cell_type": "markdown",
   "metadata": {},
   "source": [
    "Let's confirm that our calculations are correct, if they are, the effect of forcing people to sign up on earnings should be 0.34. To test test, we will generate 100 new examples using the same data generation process, and calculate everything comparing the intervention scenario with the natural scenario:"
   ]
  },
  {
   "cell_type": "code",
   "execution_count": 1092,
   "metadata": {},
   "outputs": [
    {
     "data": {
      "text/plain": [
       "0.9978941340316523"
      ]
     },
     "execution_count": 1092,
     "metadata": {},
     "output_type": "execute_result"
    }
   ],
   "source": [
    "new_motivations = np.array(range(1, 1001)) \n",
    "\n",
    "natural_sign_ups = to_binary([ x * (effect_motivation_on_sign_up + noise()) for x in new_motivations ])\n",
    "natural_show_ups = [ (x + 0.1) * (effect_sign_up_on_show_up + noise()) for x in natural_sign_ups ]\n",
    "natural_earnings = [ y * (effect_motivation_on_earnings + noise()) +\n",
    "                     x * (effect_show_up_on_earnings + noise()) for x, y in zip(natural_show_ups, new_motivations) ]\n",
    "\n",
    "intervention_sign_ups = [ 1 for x in new_motivations ]\n",
    "intervention_show_ups = [ (x + 0.1) * (effect_sign_up_on_show_up + noise()) for x in intervention_sign_ups ]\n",
    "intervention_earnings = [ y * (effect_motivation_on_earnings + noise()) +\n",
    "                          x * (effect_show_up_on_earnings + noise()) for x, y in zip(intervention_show_ups, new_motivations) ]\n",
    "\n",
    "np.mean(intervention_earnings) / np.mean(natural_earnings)"
   ]
  },
  {
   "cell_type": "markdown",
   "metadata": {},
   "source": [
    "Amazing! The results are very close!"
   ]
  },
  {
   "cell_type": "markdown",
   "metadata": {},
   "source": [
    "# Mediator"
   ]
  },
  {
   "cell_type": "code",
   "execution_count": 654,
   "metadata": {},
   "outputs": [
    {
     "data": {
      "image/png": "[encoded data removed]",
      "text/plain": [
       "<Figure size 432x288 with 1 Axes>"
      ]
     },
     "metadata": {
      "needs_background": "light"
     },
     "output_type": "display_data"
    },
    {
     "data": {
      "image/png": "[encoded data removed]",
      "text/plain": [
       "<Figure size 432x288 with 1 Axes>"
      ]
     },
     "metadata": {
      "needs_background": "light"
     },
     "output_type": "display_data"
    }
   ],
   "source": [
    "# Model:\n",
    "# smoking -> tar -> cancer <- smoking\n",
    "\n",
    "def noise():\n",
    "    return (random.random() - 0.5) * 0.3\n",
    "\n",
    "effect_smoking_on_tar = 1.1\n",
    "effect_tar_on_cancer = 1.4\n",
    "effect_smoking_on_cancer = 1.2\n",
    "\n",
    "smokings = to_binary([ random.random() for _ in range(0, 1000) ])\n",
    "tars = [ int(10 * (x + 0.1) * (effect_smoking_on_tar + noise())) for x in smokings ]\n",
    "cancers = to_binary([ (x + 0.1) * (effect_smoking_on_cancer + noise()) +\n",
    "            m * (effect_tar_on_cancer + noise()) for x, m in zip(smokings, tars) ])\n",
    "\n",
    "# smokings = to_binary(smokings)\n",
    "# tars = [ int(m * 10) for m in tars ]\n",
    "# cancers = to_binary(cancers)\n",
    "\n",
    "plt.scatter(x = smokings, y = tars)\n",
    "plt.xlabel(\"smokings\")\n",
    "plt.ylabel(\"tars\")\n",
    "plt.show()\n",
    "\n",
    "plt.scatter(x = smokings, y = cancers)\n",
    "plt.xlabel(\"smokings\")\n",
    "plt.ylabel(\"cancers\")\n",
    "plt.show()"
   ]
  },
  {
   "cell_type": "code",
   "execution_count": 655,
   "metadata": {},
   "outputs": [
    {
     "data": {
      "text/plain": [
       "-0.8211536538461989"
      ]
     },
     "execution_count": 655,
     "metadata": {},
     "output_type": "execute_result"
    }
   ],
   "source": [
    "# Formula: NIE = \\sum_{m} [P(M = m | X = 1) - P(M = m | X = 0)] * P(Y = 1 | X = 0, M = m)\n",
    "# X = smoking, M = tar, Y = cancer\n",
    "\n",
    "nie = 0\n",
    "for m in set(tars):\n",
    "    x_true = [ x for x in smokings if x == 1 ]\n",
    "    x_true_for_m = [ x for x, m_ in zip(smokings, tars) if x == 1 and m_ == m ]\n",
    "    p_m_given_x_true = len(x_true_for_m) / len(x_true)\n",
    "    \n",
    "    x_false = [ x for x in smokings if x == 0 ]\n",
    "    x_false_for_m = [ x for x, m_ in zip(smokings, tars) if x == 0 and m_ == m ]\n",
    "    p_m_given_x_false = len(x_false_for_m) / len(x_false)\n",
    "    \n",
    "    p_x_false_m_m = [ x for x, m_ in zip(smokings, tars) if x == 0 and m_ == m ]\n",
    "    p_y_true_for_x_false_m_m = [ y for x, m_, y in zip(smokings, tars, cancers) if x == 0 and m_ == m and y == 1 ]\n",
    "    p_y_true_given_x_false_m_m = len(p_y_true_for_x_false_m_m) / (len(p_x_false_m_m) + 0.0001)\n",
    "    \n",
    "    # E(Y | X = 0, M = m)\n",
    "#     p_y_true_given_x_false_m_m = np.mean(p_y_true_for_x_false_m_m) if len(p_y_true_for_x_false_m_m) else 1\n",
    "    \n",
    "    nie += float(p_m_given_x_true - p_m_given_x_false) * float(p_y_true_given_x_false_m_m)\n",
    "nie"
   ]
  },
  {
   "cell_type": "code",
   "execution_count": 245,
   "metadata": {},
   "outputs": [
    {
     "name": "stdout",
     "output_type": "stream",
     "text": [
      "0.436399217221135\n",
      "0.06457925636007827\n"
     ]
    },
    {
     "data": {
      "text/plain": [
       "0.14798206278026907"
      ]
     },
     "execution_count": 245,
     "metadata": {},
     "output_type": "execute_result"
    }
   ],
   "source": [
    "new_smokings = [ random.random() for _ in range(0, 1000) ]\n",
    "\n",
    "natural_tars = [ x * (effect_smoking_on_tar + noise()) for x in new_smokings ]\n",
    "natural_cancers = [ x * (effect_smoking_on_cancer + noise()) +\n",
    "                    m * (effect_tar_on_cancer + noise()) for x, m in zip(new_smokings, natural_tars) ]\n",
    "natural_cancers = to_binary(natural_cancers)\n",
    "\n",
    "intervention_tars = [ x * (effect_smoking_on_tar + noise()) for x in new_smokings ]\n",
    "intervention_cancers = [ 0 * (effect_smoking_on_cancer + noise()) +\n",
    "                        m * (effect_tar_on_cancer + noise()) for x, m in zip(new_smokings, intervention_tars) ]\n",
    "intervention_cancers = to_binary(intervention_cancers)\n",
    "\n",
    "new_smokings = to_binary(new_smokings)\n",
    "\n",
    "natural_cancers_given_smokings = [ y for x, y in zip(new_smokings, natural_cancers) if x == 1 ]\n",
    "intervention_cancers_given_smokings = [ y for x, y in zip(new_smokings, intervention_cancers) if x == 1 ]\n",
    "print(np.mean(natural_cancers_given_smokings))\n",
    "print(np.mean(intervention_cancers_given_smokings))\n",
    "np.mean(intervention_cancers_given_smokings) / np.mean(natural_cancers_given_smokings)\n",
    "# print(np.mean(cancers))\n",
    "# print(np.mean(natural_cancers))"
   ]
  },
  {
   "cell_type": "markdown",
   "metadata": {},
   "source": [
    "# Gene Strength"
   ]
  },
  {
   "cell_type": "code",
   "execution_count": 870,
   "metadata": {},
   "outputs": [
    {
     "data": {
      "image/png": "[encoded data removed]",
      "text/plain": [
       "<Figure size 432x288 with 1 Axes>"
      ]
     },
     "metadata": {
      "needs_background": "light"
     },
     "output_type": "display_data"
    },
    {
     "data": {
      "image/png": "[encoded data removed]",
      "text/plain": [
       "<Figure size 432x288 with 1 Axes>"
      ]
     },
     "metadata": {
      "needs_background": "light"
     },
     "output_type": "display_data"
    }
   ],
   "source": [
    "# Model:\n",
    "# gene -> smoking -> cancer <- gene \n",
    "\n",
    "def noise():\n",
    "    return (random.random() - 0.5) * 0.3\n",
    "\n",
    "effect_gene_on_smoking = 1.2\n",
    "effect_smoking_on_cancer = 5\n",
    "effect_gene_on_cancer = 1.3\n",
    "\n",
    "genes = [ int(random.random() * 10) for _ in range(0, 1000) ]\n",
    "smokings = [ 0 if random.random() > 0.5 else int(x * (effect_gene_on_smoking + noise())) for x in genes ]\n",
    "cancers = [ #0.1 if random.random() > 0.1 else\n",
    "            x * (effect_smoking_on_cancer + noise()) +\n",
    "            g * (effect_gene_on_cancer + noise()) for x, g in zip(smokings, genes) ]\n",
    "\n",
    "plt.scatter(x = genes, y = cancers)\n",
    "plt.xlabel(\"genes\")\n",
    "plt.ylabel(\"cancers\")\n",
    "plt.show()\n",
    "\n",
    "plt.scatter(x = smokings, y = cancers)\n",
    "plt.xlabel(\"smokings\")\n",
    "plt.ylabel(\"cancers\")\n",
    "plt.show()"
   ]
  },
  {
   "cell_type": "code",
   "execution_count": 871,
   "metadata": {},
   "outputs": [
    {
     "data": {
      "text/plain": [
       "4.553465873850191"
      ]
     },
     "execution_count": 871,
     "metadata": {},
     "output_type": "execute_result"
    }
   ],
   "source": [
    "# Using Formula\n",
    "# P(Y | do(X)) = \\sum_{z} P(Y | X, Z = z) P(Z = z)\n",
    "coefs2 = 0\n",
    "for gene in set(genes):\n",
    "    P_Z = len([ z for z in genes if z == gene ]) / len(genes)\n",
    "    X_given_z = [ x for x, z in zip(smokings, genes) if z == gene ]\n",
    "    Y_given_z = [ y for y, z in zip(cancers, genes) if z == gene ]\n",
    "    \n",
    "    coefs2 += linear_coef(X_given_z, Y_given_z) * P_Z\n",
    "coefs2 "
   ]
  },
  {
   "cell_type": "code",
   "execution_count": 872,
   "metadata": {},
   "outputs": [
    {
     "data": {
      "text/plain": [
       "4.990322753664906"
      ]
     },
     "execution_count": 872,
     "metadata": {},
     "output_type": "execute_result"
    }
   ],
   "source": [
    "intervention_0_smokings = [ 0 for g in genes ]\n",
    "intervention_0_cancers = [ x * (effect_smoking_on_cancer + noise()) +\n",
    "                           g * (effect_gene_on_cancer + noise()) for x, g in zip(intervention_0_smokings, genes) ]\n",
    "\n",
    "intervention_1_smokings = [ 1 for g in genes ]\n",
    "intervention_1_cancers = [ x * (effect_smoking_on_cancer + noise()) +\n",
    "                           g * (effect_gene_on_cancer + noise()) for x, g in zip(intervention_1_smokings, genes) ]\n",
    "\n",
    "np.mean(intervention_1_cancers) - np.mean(intervention_0_cancers)"
   ]
  },
  {
   "cell_type": "markdown",
   "metadata": {},
   "source": [
    "We saw that if we can measure the gene then we see the effect of smoking on cancer. But let's consider the hypothesis that smoking doesn't cause cancer, rather that the confounding gene caused both for you to smoke and to have cancer. How strong would that need to be?"
   ]
  },
  {
   "cell_type": "code",
   "execution_count": 908,
   "metadata": {},
   "outputs": [
    {
     "name": "stdout",
     "output_type": "stream",
     "text": [
      "Smokers have 5.2 times more risk of having cancer\n",
      "This means that if 19.3% of non-smoking people had the gene, then 100% of smoking people would have to have it\n"
     ]
    }
   ],
   "source": [
    "smokers_with_cancer = len([ 1 for x, y in zip(smokings, cancers) if x > 0 and y > 10 ])\n",
    "all_smokers = len([ 1 for x in smokings if x > 0 ])\n",
    "non_smokers_with_cancer = len([ 1 for x, y in zip(smokings, cancers) if x == 0 and y > 10 ])\n",
    "all_non_smokers = len([ 1 for x in smokings if x == 0 ])\n",
    "\n",
    "chance_cancer_smokers = smokers_with_cancer / all_smokers\n",
    "chance_cancer_non_smokers = non_smokers_with_cancer / all_non_smokers\n",
    "increased_chance = chance_cancer_smokers / chance_cancer_non_smokers\n",
    "\n",
    "print(\"Smokers have\", \"%.1f\" % increased_chance, \"times more risk of having cancer\")\n",
    "print(\"This means that if\", \"%.1f%%\" % (100 / increased_chance), \"of non-smoking people had the gene, then 100% of smoking people would have to have it\")"
   ]
  },
  {
   "cell_type": "code",
   "execution_count": null,
   "metadata": {},
   "outputs": [],
   "source": []
  }
 ],
 "metadata": {
  "kernelspec": {
   "display_name": "Python 3",
   "language": "python",
   "name": "python3"
  },
  "language_info": {
   "codemirror_mode": {
    "name": "ipython",
    "version": 3
   },
   "file_extension": ".py",
   "mimetype": "text/x-python",
   "name": "python",
   "nbconvert_exporter": "python",
   "pygments_lexer": "ipython3",
   "version": "3.6.6"
  }
 },
 "nbformat": 4,
 "nbformat_minor": 2
}
